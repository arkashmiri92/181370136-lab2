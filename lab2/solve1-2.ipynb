{
 "cells": [
  {
   "cell_type": "code",
   "execution_count": 1,
   "id": "553c6c8d",
   "metadata": {},
   "outputs": [
    {
     "name": "stdout",
     "output_type": "stream",
     "text": [
      "Enter your total expenses 4567\n",
      "Enter your expenses 3\n",
      "Enter your expenses 4\n",
      "Enter your expenses 5\n",
      "Enter your expenses -1\n",
      "Ok budget\n",
      "Your budget is  12\n"
     ]
    }
   ],
   "source": [
    "expense=int(input(\"Enter your total expenses \"))\n",
    "total=0\n",
    "while(True):\n",
    "    months=int(input(\"Enter your expenses \"))\n",
    "    if(months==-1):\n",
    "        break\n",
    "    total+=months\n",
    "if(total>expense):\n",
    "    print(\"Over budget\")\n",
    "else:\n",
    "    print(\"Ok budget\")\n",
    "print(\"Your budget is \",total)\n",
    "    "
   ]
  },
  {
   "cell_type": "code",
   "execution_count": null,
   "id": "a6f5fbdf",
   "metadata": {},
   "outputs": [],
   "source": []
  }
 ],
 "metadata": {
  "kernelspec": {
   "display_name": "Python 3",
   "language": "python",
   "name": "python3"
  },
  "language_info": {
   "codemirror_mode": {
    "name": "ipython",
    "version": 3
   },
   "file_extension": ".py",
   "mimetype": "text/x-python",
   "name": "python",
   "nbconvert_exporter": "python",
   "pygments_lexer": "ipython3",
   "version": "3.8.8"
  }
 },
 "nbformat": 4,
 "nbformat_minor": 5
}
