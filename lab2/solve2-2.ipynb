{
 "cells": [
  {
   "cell_type": "code",
   "execution_count": null,
   "id": "22a9cc2f",
   "metadata": {},
   "outputs": [],
   "source": [
    "years=int(input(\"Enter number of years \"))\n",
    "total,i,count=0,0,0\n",
    "while(i<years):\n",
    "    for j in range(1,13):\n",
    "        rainfall=int(input(\"Enter rainfall \"))\n",
    "        total+=rainfall\n",
    "        count+=1\n",
    "    i+=1\n",
    "print(\"Avearge of rainfall is \",total/count)\n",
    "print(\"total months \",count)\n",
    "print(\"Total years \",total)\n",
    "    "
   ]
  },
  {
   "cell_type": "code",
   "execution_count": null,
   "id": "4a0abfa7",
   "metadata": {},
   "outputs": [],
   "source": []
  },
  {
   "cell_type": "code",
   "execution_count": null,
   "id": "b426dd81",
   "metadata": {},
   "outputs": [],
   "source": []
  },
  {
   "cell_type": "code",
   "execution_count": null,
   "id": "a8abee2a",
   "metadata": {},
   "outputs": [],
   "source": []
  }
 ],
 "metadata": {
  "kernelspec": {
   "display_name": "Python 3",
   "language": "python",
   "name": "python3"
  },
  "language_info": {
   "codemirror_mode": {
    "name": "ipython",
    "version": 3
   },
   "file_extension": ".py",
   "mimetype": "text/x-python",
   "name": "python",
   "nbconvert_exporter": "python",
   "pygments_lexer": "ipython3",
   "version": "3.8.8"
  }
 },
 "nbformat": 4,
 "nbformat_minor": 5
}
