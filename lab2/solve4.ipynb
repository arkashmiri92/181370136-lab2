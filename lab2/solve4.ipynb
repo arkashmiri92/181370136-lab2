{
 "cells": [
  {
   "cell_type": "code",
   "execution_count": 4,
   "id": "85a730f6",
   "metadata": {},
   "outputs": [
    {
     "name": "stdout",
     "output_type": "stream",
     "text": [
      "Enter number of packages 45\n",
      "Discount is  19.8\n",
      "purchase is  4474.8\n"
     ]
    }
   ],
   "source": [
    "package=int(input(\"Enter number of packages \"))\n",
    "if(package>10 and package<20):\n",
    "    discount=(99*10)/100\n",
    "elif(package>20 and package<50):\n",
    "    discount=(99*20)/100\n",
    "elif(package>50 and package<100):\n",
    "    discount=(99*30)/100\n",
    "elif(package>=100):\n",
    "    discount=(99*40)/100\n",
    "print(\"Discount is \",discount)\n",
    "print(\"purchase is \",package*99+discount)"
   ]
  },
  {
   "cell_type": "code",
   "execution_count": null,
   "id": "56883a18",
   "metadata": {},
   "outputs": [],
   "source": []
  }
 ],
 "metadata": {
  "kernelspec": {
   "display_name": "Python 3",
   "language": "python",
   "name": "python3"
  },
  "language_info": {
   "codemirror_mode": {
    "name": "ipython",
    "version": 3
   },
   "file_extension": ".py",
   "mimetype": "text/x-python",
   "name": "python",
   "nbconvert_exporter": "python",
   "pygments_lexer": "ipython3",
   "version": "3.8.8"
  }
 },
 "nbformat": 4,
 "nbformat_minor": 5
}
