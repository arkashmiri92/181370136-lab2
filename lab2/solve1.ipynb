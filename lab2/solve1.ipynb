{
 "cells": [
  {
   "cell_type": "code",
   "execution_count": 3,
   "id": "efa1baca",
   "metadata": {},
   "outputs": [
    {
     "name": "stdout",
     "output_type": "stream",
     "text": [
      "Enter mass of the body 890\n",
      "Mass is too heavy\n",
      "Weight is:  3542.2\n"
     ]
    }
   ],
   "source": [
    "mass=float(input(\"Enter mass of the body \"))\n",
    "weight=mass*3.98\n",
    "if(weight>500):\n",
    "    print(\"Mass is too heavy\")\n",
    "elif(weight<100):\n",
    "    print(\"Mass is too light\")\n",
    "print(\"Weight is: \",weight)"
   ]
  },
  {
   "cell_type": "code",
   "execution_count": null,
   "id": "0fc13a27",
   "metadata": {},
   "outputs": [],
   "source": []
  },
  {
   "cell_type": "code",
   "execution_count": null,
   "id": "c8675b05",
   "metadata": {},
   "outputs": [],
   "source": []
  }
 ],
 "metadata": {
  "kernelspec": {
   "display_name": "Python 3",
   "language": "python",
   "name": "python3"
  },
  "language_info": {
   "codemirror_mode": {
    "name": "ipython",
    "version": 3
   },
   "file_extension": ".py",
   "mimetype": "text/x-python",
   "name": "python",
   "nbconvert_exporter": "python",
   "pygments_lexer": "ipython3",
   "version": "3.8.8"
  }
 },
 "nbformat": 4,
 "nbformat_minor": 5
}
