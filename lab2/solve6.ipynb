{
 "cells": [
  {
   "cell_type": "code",
   "execution_count": 6,
   "id": "b6dd43bc",
   "metadata": {},
   "outputs": [
    {
     "name": "stdout",
     "output_type": "stream",
     "text": [
      "Enter weight 45\n",
      "Enter height 34\n",
      "over weight\n"
     ]
    }
   ],
   "source": [
    "weight=int(input(\"Enter weight \"))\n",
    "height=int(input(\"Enter height \"))\n",
    "bmi=weight*703/height**2\n",
    "if(bmi>=18.5 and bmi <25):\n",
    "    print(\"Optimal weight\")\n",
    "elif(bmi<18.5):\n",
    "    print(\"Under weight\")\n",
    "elif(bmi >=25):\n",
    "    print(\"over weight\")"
   ]
  },
  {
   "cell_type": "code",
   "execution_count": null,
   "id": "998987bc",
   "metadata": {},
   "outputs": [],
   "source": []
  }
 ],
 "metadata": {
  "kernelspec": {
   "display_name": "Python 3",
   "language": "python",
   "name": "python3"
  },
  "language_info": {
   "codemirror_mode": {
    "name": "ipython",
    "version": 3
   },
   "file_extension": ".py",
   "mimetype": "text/x-python",
   "name": "python",
   "nbconvert_exporter": "python",
   "pygments_lexer": "ipython3",
   "version": "3.8.8"
  }
 },
 "nbformat": 4,
 "nbformat_minor": 5
}
