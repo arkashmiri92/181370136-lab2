{
 "cells": [
  {
   "cell_type": "code",
   "execution_count": 4,
   "id": "213e55e6",
   "metadata": {},
   "outputs": [
    {
     "name": "stdout",
     "output_type": "stream",
     "text": [
      "Enter start number 2\n",
      "Enter average 30\n",
      "Enter number of multiplay 10\n",
      "Population:  2\n",
      "Population:  2.6\n",
      "Population:  3.3800000000000003\n",
      "Population:  4.394000000000001\n",
      "Population:  5.712200000000002\n",
      "Population:  7.425860000000003\n",
      "Population:  9.653618000000003\n",
      "Population:  12.549703400000006\n",
      "Population:  16.31461442000001\n"
     ]
    }
   ],
   "source": [
    "start=int(input(\"Enter start number \"))\n",
    "avg=int(input(\"Enter average \"))\n",
    "number=int(input(\"Enter number of multiplay \"))\n",
    "population=start\n",
    "for i in range(start,number+1):\n",
    "    print(\"Population: \",population)\n",
    "    population=(1+avg/100)*population\n",
    "    \n",
    "    "
   ]
  },
  {
   "cell_type": "code",
   "execution_count": null,
   "id": "ceae794c",
   "metadata": {},
   "outputs": [],
   "source": []
  }
 ],
 "metadata": {
  "kernelspec": {
   "display_name": "Python 3",
   "language": "python",
   "name": "python3"
  },
  "language_info": {
   "codemirror_mode": {
    "name": "ipython",
    "version": 3
   },
   "file_extension": ".py",
   "mimetype": "text/x-python",
   "name": "python",
   "nbconvert_exporter": "python",
   "pygments_lexer": "ipython3",
   "version": "3.8.8"
  }
 },
 "nbformat": 4,
 "nbformat_minor": 5
}
