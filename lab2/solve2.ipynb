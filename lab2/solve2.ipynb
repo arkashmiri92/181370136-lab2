{
 "cells": [
  {
   "cell_type": "code",
   "execution_count": 1,
   "id": "2e00cdbd",
   "metadata": {},
   "outputs": [
    {
     "name": "stdout",
     "output_type": "stream",
     "text": [
      "Enter total people 45\n",
      "Enter distribution of the hot dogs 2\n",
      "hot dogs packages  9.0\n",
      "Left over dogs  0\n",
      "Buns packages  11.25\n",
      "Left over buns  2\n"
     ]
    }
   ],
   "source": [
    "hot_dogs,hot_buns=10,8\n",
    "total_people=int(input(\"Enter total people \"))\n",
    "hot_dogs_num=int(input(\"Enter distribution of the hot dogs \"))\n",
    "total_dogs=total_people*hot_dogs_num\n",
    "print(\"hot dogs packages \",total_dogs/hot_dogs)\n",
    "print(\"Left over dogs \",total_dogs%hot_dogs)\n",
    "print(\"Buns packages \",total_dogs/hot_buns)\n",
    "print(\"Left over buns \",total_dogs%hot_buns)"
   ]
  },
  {
   "cell_type": "code",
   "execution_count": null,
   "id": "943deaf3",
   "metadata": {},
   "outputs": [],
   "source": []
  }
 ],
 "metadata": {
  "kernelspec": {
   "display_name": "Python 3",
   "language": "python",
   "name": "python3"
  },
  "language_info": {
   "codemirror_mode": {
    "name": "ipython",
    "version": 3
   },
   "file_extension": ".py",
   "mimetype": "text/x-python",
   "name": "python",
   "nbconvert_exporter": "python",
   "pygments_lexer": "ipython3",
   "version": "3.8.8"
  }
 },
 "nbformat": 4,
 "nbformat_minor": 5
}
