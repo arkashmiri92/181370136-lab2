{
 "cells": [
  {
   "cell_type": "code",
   "execution_count": 4,
   "id": "6004f16a",
   "metadata": {},
   "outputs": [
    {
     "name": "stdout",
     "output_type": "stream",
     "text": [
      "Enter weight 334\n",
      "Shipping charges  4.75\n"
     ]
    }
   ],
   "source": [
    "weight=int(input(\"Enter weight \"))\n",
    "if(weight<=2):\n",
    "    shipping=1.5\n",
    "elif(weight>2 and weight<6):\n",
    "    shipping=3.00\n",
    "elif(weight>=6 and weight<10):\n",
    "    shipping=4.0\n",
    "elif(weight>10):\n",
    "    shipping=4.75\n",
    "print(\"Shipping charges \",shipping)"
   ]
  },
  {
   "cell_type": "code",
   "execution_count": null,
   "id": "ee4aa254",
   "metadata": {},
   "outputs": [],
   "source": []
  }
 ],
 "metadata": {
  "kernelspec": {
   "display_name": "Python 3",
   "language": "python",
   "name": "python3"
  },
  "language_info": {
   "codemirror_mode": {
    "name": "ipython",
    "version": 3
   },
   "file_extension": ".py",
   "mimetype": "text/x-python",
   "name": "python",
   "nbconvert_exporter": "python",
   "pygments_lexer": "ipython3",
   "version": "3.8.8"
  }
 },
 "nbformat": 4,
 "nbformat_minor": 5
}
